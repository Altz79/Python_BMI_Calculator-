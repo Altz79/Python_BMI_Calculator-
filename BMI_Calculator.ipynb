{
 "cells": [
  {
   "cell_type": "code",
   "execution_count": 1,
   "id": "765a1828",
   "metadata": {},
   "outputs": [],
   "source": [
    "import pandas as pd"
   ]
  },
  {
   "cell_type": "code",
   "execution_count": 2,
   "id": "493ad15b",
   "metadata": {},
   "outputs": [],
   "source": [
    "input_data = [{\"Gender\": \"Male\", \"HeightCm\": 171, \"WeightKg\": 96 },\n",
    "              { \"Gender\": \"Male\", \"HeightCm\": 161, \"WeightKg\": 85 },\n",
    "              { \"Gender\": \"Male\", \"HeightCm\": 180, \"WeightKg\": 77 },\n",
    "              { \"Gender\": \"Female\", \"HeightCm\": 166, \"WeightKg\": 62},\n",
    "              {\"Gender\": \"Female\", \"HeightCm\": 150, \"WeightKg\": 70},\n",
    "              {\"Gender\": \"Female\", \"HeightCm\": 167, \"WeightKg\": 82}]\n",
    "\n",
    "bmi_table = pd.DataFrame(input_data)\n",
    "\n",
    "# add 3 needed columns\n",
    "new_cols = [\"BMI\", \"BMI_Category\", \"Health_risk\"]\n",
    "values = ['', '', '']\n",
    "bmi_table = bmi_table.assign(**dict(zip(new_cols, values)))"
   ]
  },
  {
   "cell_type": "code",
   "execution_count": 3,
   "id": "5912f5d1",
   "metadata": {},
   "outputs": [],
   "source": [
    "# calculate Body Mass Index\n",
    "\n",
    "bmi_table[\"BMI\"] = (bmi_table['WeightKg'] / ((bmi_table['HeightCm'] / 100) ** 2)).round(2)"
   ]
  },
  {
   "cell_type": "code",
   "execution_count": 4,
   "id": "f272f1dd",
   "metadata": {},
   "outputs": [],
   "source": [
    "# BMI Category\n",
    "\n",
    "def bmi_category (row):\n",
    "    if row[\"BMI\"] <= 18.4:\n",
    "        return 'Underweight'\n",
    "    elif row[\"BMI\"] >= 18.5 and row[\"BMI\"] <= 24.9:\n",
    "        return 'Normal weight'\n",
    "    elif row[\"BMI\"] >= 25 and row[\"BMI\"] <= 29.9:\n",
    "        return 'Overweight'\n",
    "    elif row[\"BMI\"] >= 30 and row[\"BMI\"] <= 34.9:\n",
    "        return 'Moderately obese'\n",
    "    elif row[\"BMI\"] >= 35 and row[\"BMI\"] <= 39.9:\n",
    "        return 'Severely obese'\n",
    "    elif row[\"BMI\"] >= 40:\n",
    "        return 'Very severely obese'\n",
    "    else:\n",
    "        return 'Not valid input'\n",
    "\n",
    "bmi_table[\"BMI_Category\"] = bmi_table.apply(lambda row: bmi_category(row), axis=1)"
   ]
  },
  {
   "cell_type": "code",
   "execution_count": 5,
   "id": "6d6f1e7e",
   "metadata": {},
   "outputs": [],
   "source": [
    "# Health risk\n",
    "\n",
    "def health_risk (row):\n",
    "    if row[\"BMI\"] <= 18.4:\n",
    "        return 'Malnutrition risk'\n",
    "    elif row[\"BMI\"] >= 18.5 and row[\"BMI\"] <= 24.9:\n",
    "        return 'Low risk'\n",
    "    elif row[\"BMI\"] >= 25 and row[\"BMI\"] <= 29.9:\n",
    "        return 'Enhanced risk'\n",
    "    elif row[\"BMI\"] >= 30 and row[\"BMI\"] <= 34.9:\n",
    "        return 'Medium risk'\n",
    "    elif row[\"BMI\"] >= 35 and row[\"BMI\"] <= 39.9:\n",
    "        return 'High risk'\n",
    "    elif row[\"BMI\"] >= 40:\n",
    "        return 'Very high risk'\n",
    "    else:\n",
    "        return 'Not valid input'\n",
    "\n",
    "bmi_table[\"Health_risk\"] = bmi_table.apply(lambda row: health_risk(row), axis=1)"
   ]
  },
  {
   "cell_type": "code",
   "execution_count": 6,
   "id": "8f5a79e7",
   "metadata": {},
   "outputs": [
    {
     "data": {
      "text/html": [
       "<div>\n",
       "<style scoped>\n",
       "    .dataframe tbody tr th:only-of-type {\n",
       "        vertical-align: middle;\n",
       "    }\n",
       "\n",
       "    .dataframe tbody tr th {\n",
       "        vertical-align: top;\n",
       "    }\n",
       "\n",
       "    .dataframe thead th {\n",
       "        text-align: right;\n",
       "    }\n",
       "</style>\n",
       "<table border=\"1\" class=\"dataframe\">\n",
       "  <thead>\n",
       "    <tr style=\"text-align: right;\">\n",
       "      <th></th>\n",
       "      <th>Gender</th>\n",
       "      <th>HeightCm</th>\n",
       "      <th>WeightKg</th>\n",
       "      <th>BMI</th>\n",
       "      <th>BMI_Category</th>\n",
       "      <th>Health_risk</th>\n",
       "    </tr>\n",
       "  </thead>\n",
       "  <tbody>\n",
       "    <tr>\n",
       "      <th>0</th>\n",
       "      <td>Male</td>\n",
       "      <td>171</td>\n",
       "      <td>96</td>\n",
       "      <td>32.83</td>\n",
       "      <td>Moderately obese</td>\n",
       "      <td>Medium risk</td>\n",
       "    </tr>\n",
       "    <tr>\n",
       "      <th>1</th>\n",
       "      <td>Male</td>\n",
       "      <td>161</td>\n",
       "      <td>85</td>\n",
       "      <td>32.79</td>\n",
       "      <td>Moderately obese</td>\n",
       "      <td>Medium risk</td>\n",
       "    </tr>\n",
       "    <tr>\n",
       "      <th>2</th>\n",
       "      <td>Male</td>\n",
       "      <td>180</td>\n",
       "      <td>77</td>\n",
       "      <td>23.77</td>\n",
       "      <td>Normal weight</td>\n",
       "      <td>Low risk</td>\n",
       "    </tr>\n",
       "    <tr>\n",
       "      <th>3</th>\n",
       "      <td>Female</td>\n",
       "      <td>166</td>\n",
       "      <td>62</td>\n",
       "      <td>22.50</td>\n",
       "      <td>Normal weight</td>\n",
       "      <td>Low risk</td>\n",
       "    </tr>\n",
       "    <tr>\n",
       "      <th>4</th>\n",
       "      <td>Female</td>\n",
       "      <td>150</td>\n",
       "      <td>70</td>\n",
       "      <td>31.11</td>\n",
       "      <td>Moderately obese</td>\n",
       "      <td>Medium risk</td>\n",
       "    </tr>\n",
       "    <tr>\n",
       "      <th>5</th>\n",
       "      <td>Female</td>\n",
       "      <td>167</td>\n",
       "      <td>82</td>\n",
       "      <td>29.40</td>\n",
       "      <td>Overweight</td>\n",
       "      <td>Enhanced risk</td>\n",
       "    </tr>\n",
       "  </tbody>\n",
       "</table>\n",
       "</div>"
      ],
      "text/plain": [
       "   Gender  HeightCm  WeightKg    BMI      BMI_Category    Health_risk\n",
       "0    Male       171        96  32.83  Moderately obese    Medium risk\n",
       "1    Male       161        85  32.79  Moderately obese    Medium risk\n",
       "2    Male       180        77  23.77     Normal weight       Low risk\n",
       "3  Female       166        62  22.50     Normal weight       Low risk\n",
       "4  Female       150        70  31.11  Moderately obese    Medium risk\n",
       "5  Female       167        82  29.40        Overweight  Enhanced risk"
      ]
     },
     "execution_count": 6,
     "metadata": {},
     "output_type": "execute_result"
    }
   ],
   "source": [
    "# BMI (Body Mass Index), BMI Category and Health risk as 3 new columns:\n",
    "\n",
    "bmi_table"
   ]
  },
  {
   "cell_type": "code",
   "execution_count": 7,
   "id": "6b1eb93d",
   "metadata": {},
   "outputs": [
    {
     "name": "stdout",
     "output_type": "stream",
     "text": [
      "Total number of overweight people is: 1\n"
     ]
    }
   ],
   "source": [
    "# Count the total number of overweight people\n",
    "\n",
    "x = bmi_table.BMI_Category.value_counts()['Overweight']\n",
    "print('Total number of overweight people is: {}'.format(x))"
   ]
  }
 ],
 "metadata": {
  "kernelspec": {
   "display_name": "Python 3",
   "language": "python",
   "name": "python3"
  },
  "language_info": {
   "codemirror_mode": {
    "name": "ipython",
    "version": 3
   },
   "file_extension": ".py",
   "mimetype": "text/x-python",
   "name": "python",
   "nbconvert_exporter": "python",
   "pygments_lexer": "ipython3",
   "version": "3.8.8"
  }
 },
 "nbformat": 4,
 "nbformat_minor": 5
}
